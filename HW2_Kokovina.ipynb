{
 "cells": [
  {
   "cell_type": "code",
   "execution_count": 1,
   "id": "b44c3fa2-3058-4b84-ba8b-ce7582540ca3",
   "metadata": {},
   "outputs": [],
   "source": [
    "from scipy import stats\n",
    "import numpy as np\n",
    "import math"
   ]
  },
  {
   "cell_type": "markdown",
   "id": "ffddc027-8f08-4786-bcde-3bd8c83eed53",
   "metadata": {},
   "source": [
    "# Задание 1"
   ]
  },
  {
   "cell_type": "markdown",
   "id": "46428b06-5ea3-4599-9ef6-18cd66983e88",
   "metadata": {},
   "source": [
    "Применяем гипотезу о среднем"
   ]
  },
  {
   "cell_type": "markdown",
   "id": "30a692f3-6ead-42ef-9a83-20b30d4410ed",
   "metadata": {},
   "source": [
    " - H0 - среднее занчение ряда равно u0\n",
    " - H1 - среднее значение ряда не равно u0 (больше или меньше)"
   ]
  },
  {
   "cell_type": "code",
   "execution_count": 2,
   "id": "71b141bf-1131-48c7-bcb5-854149b317fa",
   "metadata": {},
   "outputs": [],
   "source": [
    "# Данные для проверки\n",
    "arr = np.array([12.9, 11.6, 13.5, 13.9, 12.1, 11.9, 13.0])"
   ]
  },
  {
   "cell_type": "code",
   "execution_count": 3,
   "id": "a9440e1d-b2a4-4de0-bd1f-c773ed5d53ec",
   "metadata": {},
   "outputs": [],
   "source": [
    "# среднее значение\n",
    "u0 = 12"
   ]
  },
  {
   "cell_type": "markdown",
   "id": "48cebeb5-6dd3-4f2d-b7cb-06f7417d5026",
   "metadata": {},
   "source": [
    "### Проверка распределения на нормальность"
   ]
  },
  {
   "cell_type": "code",
   "execution_count": 5,
   "id": "85cf07ca-3443-41cc-a516-d8ede21856da",
   "metadata": {},
   "outputs": [
    {
     "data": {
      "text/plain": [
       "ShapiroResult(statistic=0.9461528332649155, pvalue=0.694601251101445)"
      ]
     },
     "execution_count": 5,
     "metadata": {},
     "output_type": "execute_result"
    }
   ],
   "source": [
    "# Проверяем данные на нормальность, используя критерий Шапиро-Уилка\n",
    "stats.shapiro(arr)"
   ]
  },
  {
   "cell_type": "markdown",
   "id": "20c45fc0-806c-43f8-9a42-ebfc13d351f6",
   "metadata": {},
   "source": [
    "На уровне значимости alpha = 0.05 принимаем, что данные arr распределены нормально (т.к. p-value = 0.69 > 0.05)"
   ]
  },
  {
   "cell_type": "markdown",
   "id": "d77882fd-cf0a-4fd5-a42b-3f47cde918fd",
   "metadata": {},
   "source": [
    "### Применяем ttest_1samp"
   ]
  },
  {
   "cell_type": "markdown",
   "id": "489c5ac9-198d-4f9c-8996-fd39739cbfee",
   "metadata": {},
   "source": [
    " - Условие нормальности распределения данных выполняется, можем применять другие критерии\n",
    " - Применяем t-test для одного сэмла данных (у нас всего один ряд)\n",
    " - Данный тест с двусторонней критичекой областью (нам такой и нужен, он учитывает отклонение в обе стороны)"
   ]
  },
  {
   "cell_type": "code",
   "execution_count": 6,
   "id": "928f1564-44b6-4c60-88ee-cfc8d61b9a77",
   "metadata": {},
   "outputs": [
    {
     "data": {
      "text/plain": [
       "TtestResult(statistic=2.1578017974978794, pvalue=0.07430190210562303, df=6)"
      ]
     },
     "execution_count": 6,
     "metadata": {},
     "output_type": "execute_result"
    }
   ],
   "source": [
    "alpha = 0.05\n",
    "p = stats.ttest_1samp(arr, u0)\n",
    "p"
   ]
  },
  {
   "cell_type": "markdown",
   "id": "5d56d494-86d2-4b9b-96ca-bca2aa72ebda",
   "metadata": {},
   "source": [
    "В качестве уровня значимости принимаем alpha = 0.05"
   ]
  },
  {
   "cell_type": "code",
   "execution_count": 7,
   "id": "b37b0681-9a07-4680-a5da-482521925a27",
   "metadata": {},
   "outputs": [
    {
     "name": "stdout",
     "output_type": "stream",
     "text": [
      "p-value =  0.07430190210562303\n",
      "False\n"
     ]
    }
   ],
   "source": [
    "print('p-value = ', p.pvalue)\n",
    "print(alpha > p.pvalue)"
   ]
  },
  {
   "cell_type": "markdown",
   "id": "2022e00c-fec4-49be-aaab-47b26c81d8ba",
   "metadata": {},
   "source": [
    "Значение alpha меньше pvalue, поэтому мы не можем отвергнуть нулевую гипотезу и принимаем, что значение 12 действительно является номинальным напряжением"
   ]
  },
  {
   "cell_type": "markdown",
   "id": "877aa53f-3fd7-4402-9a72-4ae1a15d040b",
   "metadata": {},
   "source": [
    "### Пересчет руками"
   ]
  },
  {
   "cell_type": "markdown",
   "id": "9f54b267-8704-4741-9b01-2f51795945b9",
   "metadata": {},
   "source": [
    "Посчитаем то же самое руками"
   ]
  },
  {
   "cell_type": "code",
   "execution_count": 8,
   "id": "2774b2c4-4457-4212-bc7d-5345d5fcd71b",
   "metadata": {},
   "outputs": [
    {
     "name": "stdout",
     "output_type": "stream",
     "text": [
      "12.700000000000001\n"
     ]
    }
   ],
   "source": [
    "u = arr.mean() # считаем среднее значение\n",
    "print(u)"
   ]
  },
  {
   "cell_type": "code",
   "execution_count": 9,
   "id": "2cfc3e58-9eb0-4eb4-a38f-2738d0232ab6",
   "metadata": {},
   "outputs": [
    {
     "data": {
      "text/plain": [
       "-2.1578017974978794"
      ]
     },
     "execution_count": 9,
     "metadata": {},
     "output_type": "execute_result"
    }
   ],
   "source": [
    "T = (u0 - u) * math.sqrt(len(arr) - 1) / np.std(arr) \n",
    "T # считаем статистику критерия"
   ]
  },
  {
   "cell_type": "code",
   "execution_count": 11,
   "id": "fccef8b2-7bcd-45f0-b296-86c5955b2ce6",
   "metadata": {},
   "outputs": [
    {
     "name": "stdout",
     "output_type": "stream",
     "text": [
      "0.07430190210562303\n"
     ]
    }
   ],
   "source": [
    "# Переведем значение статистики критерия в p-value\n",
    "\n",
    "krit = stats.t(len(arr) - 1)\n",
    "p = krit.cdf(T) * 2\n",
    "print(p) # p-value для двустороннего теста"
   ]
  },
  {
   "cell_type": "markdown",
   "id": "6bdf2fe9-d3a0-4fdf-b502-05fb54c271ae",
   "metadata": {},
   "source": [
    "# Задание 2"
   ]
  },
  {
   "cell_type": "markdown",
   "id": "50253dbe-2527-4023-86c2-0f6c80c9fa99",
   "metadata": {},
   "source": [
    " - Так же применяем гипотезу о среднем, но для парных наблюдений\n",
    " - Выборки являются зависимыми (один и тот же образец измерен двумя методами)"
   ]
  },
  {
   "cell_type": "code",
   "execution_count": 48,
   "id": "5dabce64-3550-4b1d-9574-742253b56555",
   "metadata": {},
   "outputs": [],
   "source": [
    "# нужно анализировать разность рядов и по Н0 сравнивать с 0\n",
    "\n",
    "a = np.array([23.1, 23.2, 26.5, 26.6, 27.1, 48.3, 40.5, 25.0, 38.4, 23.5]) # первый метод\n",
    "b = np.array([22.7, 23.6, 27.1, 27.4, 27.4, 46.8, 40.4, 24.9, 38.1, 23.8]) # второй метод"
   ]
  },
  {
   "cell_type": "markdown",
   "id": "0118fc75-d0c1-4624-b7ec-135f575d827c",
   "metadata": {},
   "source": [
    "### Проверка на нормальность распределения"
   ]
  },
  {
   "cell_type": "code",
   "execution_count": 51,
   "id": "73a43ee6-e984-4761-bbc6-aefa8713eb7d",
   "metadata": {},
   "outputs": [
    {
     "name": "stdout",
     "output_type": "stream",
     "text": [
      "0.009897167254532586\n",
      "0.02066336811509381\n"
     ]
    }
   ],
   "source": [
    "print(stats.shapiro(a).pvalue)\n",
    "print(stats.shapiro(b).pvalue)"
   ]
  },
  {
   "cell_type": "markdown",
   "id": "1035536e-93f3-44f1-98fc-5fde385551a2",
   "metadata": {},
   "source": [
    "Сами выборки распределены ненормально на уровне значимости 0.05"
   ]
  },
  {
   "cell_type": "markdown",
   "id": "d265ce89-1e5c-45c6-9131-82681d318697",
   "metadata": {},
   "source": [
    "### Разность парных данных в ttest_1samp "
   ]
  },
  {
   "cell_type": "markdown",
   "id": "36b83057-75fd-455a-bc30-96d97104f182",
   "metadata": {},
   "source": [
    " - H0 - разница средних для первого и второго ряда равна 0 или m1 - m2 = 0\n",
    " - H1 - разница средних не равна 0 в любую сторону или m1 != m2"
   ]
  },
  {
   "cell_type": "code",
   "execution_count": 17,
   "id": "fb3ce61f-d235-401e-b6c9-c3bb43f95d18",
   "metadata": {},
   "outputs": [
    {
     "name": "stdout",
     "output_type": "stream",
     "text": [
      "[ 0.4 -0.4 -0.6 -0.8 -0.3  1.5  0.1  0.1  0.3 -0.3]\n"
     ]
    }
   ],
   "source": [
    "c = a - b\n",
    "print(c)"
   ]
  },
  {
   "cell_type": "markdown",
   "id": "ed9b0107-1d42-4e43-8d62-57a3c485ace0",
   "metadata": {},
   "source": [
    "Проверяем разность данных на нормальность с помощью критерия Шапиро-Уилка"
   ]
  },
  {
   "cell_type": "code",
   "execution_count": 18,
   "id": "aabdfb0d-738a-4ac3-9252-60274bd04ccb",
   "metadata": {},
   "outputs": [
    {
     "data": {
      "text/plain": [
       "ShapiroResult(statistic=0.8998483579792755, pvalue=0.21825780478589868)"
      ]
     },
     "execution_count": 18,
     "metadata": {},
     "output_type": "execute_result"
    }
   ],
   "source": [
    "stats.shapiro(c)"
   ]
  },
  {
   "cell_type": "markdown",
   "id": "07425bf2-3f1c-40a5-9368-23ee06681b5a",
   "metadata": {},
   "source": [
    "Данные разности являются нормальными на уровне значимости 0.05"
   ]
  },
  {
   "cell_type": "markdown",
   "id": "02550a1d-a092-4f58-b6f2-f217d7a778ca",
   "metadata": {},
   "source": [
    " - Выполняется условие независимости данных\n",
    " - Можем использовать тот же t-критерий, что и в предыдущем задании\n",
    " - Критерий двусторонний, что соответствует заявленной альтернативной гипотезе"
   ]
  },
  {
   "cell_type": "code",
   "execution_count": 19,
   "id": "6460cf73-55a6-421a-82be-0c1090b6dd3b",
   "metadata": {},
   "outputs": [
    {
     "data": {
      "text/plain": [
       "TtestResult(statistic=1.7154884978678027e-15, pvalue=0.9999999999999987, df=9)"
      ]
     },
     "execution_count": 19,
     "metadata": {},
     "output_type": "execute_result"
    }
   ],
   "source": [
    "p = stats.ttest_1samp(c, 0)\n",
    "p"
   ]
  },
  {
   "cell_type": "code",
   "execution_count": 20,
   "id": "ba9dd408-d439-47fa-98c0-fe600a146b90",
   "metadata": {},
   "outputs": [
    {
     "name": "stdout",
     "output_type": "stream",
     "text": [
      "p-value =  0.9999999999999987\n",
      "False\n"
     ]
    }
   ],
   "source": [
    "alpha = 0.05\n",
    "print('p-value = ', p.pvalue)\n",
    "print(alpha > p.pvalue)"
   ]
  },
  {
   "cell_type": "markdown",
   "id": "e97e279f-9eb6-4590-bf1f-e3036e5304b0",
   "metadata": {},
   "source": [
    "Значение alpha меньше pvalue, поэтому мы не можем отвергнуть нулевую гипотезу и принимаем, что средние значения показаний обоих методов равны"
   ]
  },
  {
   "cell_type": "markdown",
   "id": "4c97b8b6-7463-4ada-8287-0a060c61a8ca",
   "metadata": {},
   "source": [
    "### Встроенный парный тест ttest_rel"
   ]
  },
  {
   "cell_type": "markdown",
   "id": "961edbc1-e455-4fc0-b153-63da6a5b1d63",
   "metadata": {},
   "source": [
    " - В библиотеке есть реализованный тест для парных зависимых выборок,\n",
    "пробуем применить его\n",
    " - тест параметрический, для интереса пробуем применить его, несмотря на ненормальность распределения изначальных выборок"
   ]
  },
  {
   "cell_type": "code",
   "execution_count": 50,
   "id": "d1435c7e-01d8-4d68-9743-bbfa6d12475a",
   "metadata": {},
   "outputs": [
    {
     "data": {
      "text/plain": [
       "TtestResult(statistic=1.7154884978678027e-15, pvalue=0.9999999999999987, df=9)"
      ]
     },
     "execution_count": 50,
     "metadata": {},
     "output_type": "execute_result"
    }
   ],
   "source": [
    "stats.ttest_rel(a, b)\n",
    "# тот же самый результат"
   ]
  },
  {
   "cell_type": "markdown",
   "id": "5df252bd-7eab-4584-b95e-5e83755df3a8",
   "metadata": {},
   "source": [
    "### Пересчет руками"
   ]
  },
  {
   "cell_type": "markdown",
   "id": "ab052fa5-00b5-4ca7-b716-6958fea0a18a",
   "metadata": {},
   "source": [
    "Пробуем считать руками то же самое руками"
   ]
  },
  {
   "cell_type": "code",
   "execution_count": 24,
   "id": "d793ed9d-f846-4066-876b-7280585f67c3",
   "metadata": {},
   "outputs": [
    {
     "data": {
      "text/plain": [
       "-1.715488497867803e-15"
      ]
     },
     "execution_count": 24,
     "metadata": {},
     "output_type": "execute_result"
    }
   ],
   "source": [
    "# Считаем значение статистики критерия\n",
    "T = (0 - c.mean()) * (len(c) - 1) ** 0.5 / c.std()\n",
    "T"
   ]
  },
  {
   "cell_type": "code",
   "execution_count": 26,
   "id": "de1f9b47-5ba8-4355-95f8-8f09b69c3059",
   "metadata": {},
   "outputs": [
    {
     "data": {
      "text/plain": [
       "0.9999999999999987"
      ]
     },
     "execution_count": 26,
     "metadata": {},
     "output_type": "execute_result"
    }
   ],
   "source": [
    "tt = stats.t(len(c) - 1)\n",
    "p = tt.cdf(T) * 2\n",
    "p"
   ]
  },
  {
   "cell_type": "markdown",
   "id": "bb2c43fa-f0dd-4ccd-b34a-ebfb2587891a",
   "metadata": {},
   "source": [
    "### Тест Уилкоксона"
   ]
  },
  {
   "cell_type": "markdown",
   "id": "64db28b5-c1e4-4309-83ed-010bea00a09a",
   "metadata": {},
   "source": [
    " - А теперь примем во внимание ненормальность распределения выборок и применим непараметрический тест\n",
    " - Выбираем тест Уилкоксона"
   ]
  },
  {
   "cell_type": "code",
   "execution_count": 54,
   "id": "d56697dc-d493-4e4d-990d-bfcd70bbd104",
   "metadata": {},
   "outputs": [
    {
     "data": {
      "text/plain": [
       "WilcoxonResult(statistic=23.0, pvalue=0.6953125)"
      ]
     },
     "execution_count": 54,
     "metadata": {},
     "output_type": "execute_result"
    }
   ],
   "source": [
    "stats.wilcoxon(a, y=b)"
   ]
  },
  {
   "cell_type": "markdown",
   "id": "82f65864-e08e-4928-98ed-405e85f8f0aa",
   "metadata": {},
   "source": [
    "Даже в этом случае на уровне значимости 0.05 разницы в методах измерения не наблюдается"
   ]
  },
  {
   "cell_type": "markdown",
   "id": "ee38f379-d546-44ce-8fff-e68ba14c8a3a",
   "metadata": {},
   "source": [
    "# Задание 3"
   ]
  },
  {
   "cell_type": "markdown",
   "id": "2ca5d6d5-7d28-4cb5-88b4-3d8be3f5538f",
   "metadata": {},
   "source": [
    "### Проверка на нормальность распределения"
   ]
  },
  {
   "cell_type": "markdown",
   "id": "af92aac0-24bc-407f-98ad-cf704e29d82b",
   "metadata": {},
   "source": [
    "Проверка данных на нормальность распределения с помощью критерия Шапиро-Уилка"
   ]
  },
  {
   "cell_type": "code",
   "execution_count": 28,
   "id": "dab85d08-78ad-4226-b504-9363f7281b35",
   "metadata": {},
   "outputs": [],
   "source": [
    "city = np.array([132, 111, 119, 138, 200, 131, 138, 170, 159, 140])\n",
    "vil = np.array([115, 190, 127, 155, 148, 121, 116, 121, 197])"
   ]
  },
  {
   "cell_type": "code",
   "execution_count": 29,
   "id": "e2ceb8f5-768d-4871-be41-fbd04147b439",
   "metadata": {},
   "outputs": [
    {
     "data": {
      "text/plain": [
       "ShapiroResult(statistic=0.9100654196723891, pvalue=0.281440686937816)"
      ]
     },
     "execution_count": 29,
     "metadata": {},
     "output_type": "execute_result"
    }
   ],
   "source": [
    "stats.shapiro(city)\n",
    "# Данные распределены нормально"
   ]
  },
  {
   "cell_type": "code",
   "execution_count": 46,
   "id": "9e2c679b-6920-4530-b221-9970fe4071f6",
   "metadata": {},
   "outputs": [
    {
     "data": {
      "text/plain": [
       "ShapiroResult(statistic=0.8286640993349573, pvalue=0.04313951145476073)"
      ]
     },
     "execution_count": 46,
     "metadata": {},
     "output_type": "execute_result"
    }
   ],
   "source": [
    "stats.shapiro(vil)\n",
    "# Данные распределены ненормально\n",
    "# Возможно такие результаты наблюдаются из-за малого количества данных во второй выборке"
   ]
  },
  {
   "cell_type": "markdown",
   "id": "43294990-3b06-4c11-99b4-f3254218dc57",
   "metadata": {},
   "source": [
    "### Попытка в параметрические тесты ttest_ind"
   ]
  },
  {
   "cell_type": "markdown",
   "id": "995e27d5-6589-490a-9ae8-52fdcc08b754",
   "metadata": {},
   "source": [
    " - Не смотря на ложность условия нормальности распределения данных пробуем применить критерий Стьюдента для проверки гипотезы о равенстве средних для независимых выборок (для интереса)\n",
    " - Одновременно с ненормальностью распределения второй выборки считаем, что не наблюдаем равенство дисперсий выборок\n",
    " - альтернативная гипотеза - односторонняя (давление горожан выше), поэтому добавляем параметр greater в тест"
   ]
  },
  {
   "cell_type": "code",
   "execution_count": 65,
   "id": "5a88faa5-a7ba-4ace-9d47-2dc36deb5f5a",
   "metadata": {},
   "outputs": [],
   "source": [
    "preassure = stats.ttest_ind(city, vil, equal_var=False, alternative='greater') \n",
    "alpha = 0.05"
   ]
  },
  {
   "cell_type": "code",
   "execution_count": 63,
   "id": "fa869ce9-702d-4753-a08e-f3527879bfff",
   "metadata": {},
   "outputs": [
    {
     "data": {
      "text/plain": [
       "TtestResult(statistic=0.03479498734072727, pvalue=0.4863422498708747, df=15.601702532561607)"
      ]
     },
     "execution_count": 63,
     "metadata": {},
     "output_type": "execute_result"
    }
   ],
   "source": [
    "preassure"
   ]
  },
  {
   "cell_type": "markdown",
   "id": "bf18b870-fbc7-4a04-8b60-f3be46f8412f",
   "metadata": {},
   "source": [
    "Pvalue выше, чем alpha, поэтому принимаем нулевую гипотезу о равенстве средних"
   ]
  },
  {
   "cell_type": "markdown",
   "id": "3f2723ff-826a-491c-b540-29e4222c410e",
   "metadata": {},
   "source": [
    "### Критерий Манна-Уитни"
   ]
  },
  {
   "cell_type": "markdown",
   "id": "01f49c4c-19c4-4c7e-b7c4-e6bd886bccc2",
   "metadata": {},
   "source": [
    " - В силу ненормальности распределения второй выборки пробуем применить непараметический тест\n",
    " - Выбираем критерий Маннf-Уитни "
   ]
  },
  {
   "cell_type": "code",
   "execution_count": 64,
   "id": "f4b5aaa6-409d-4651-a204-acec1bcbb5b9",
   "metadata": {},
   "outputs": [
    {
     "data": {
      "text/plain": [
       "MannwhitneyuResult(statistic=50.0, pvalue=0.3565312487796153)"
      ]
     },
     "execution_count": 64,
     "metadata": {},
     "output_type": "execute_result"
    }
   ],
   "source": [
    "stats.mannwhitneyu(city, vil, alternative='greater')"
   ]
  },
  {
   "cell_type": "markdown",
   "id": "7cbb431c-f0f5-46dd-bc4d-e7f4c84c311d",
   "metadata": {},
   "source": [
    "Полученное в непараметрическом тесте pvalue не позволяет отвергнуть нулевую гипотезу."
   ]
  },
  {
   "cell_type": "markdown",
   "id": "a74a8fe8-2b7c-4575-83aa-651d107966e4",
   "metadata": {},
   "source": [
    "Считаем средние значения двух выборок неотличными друг от друга."
   ]
  },
  {
   "cell_type": "markdown",
   "id": "9f8f6abd-1623-4c8d-bb78-8898ed9e82d6",
   "metadata": {},
   "source": [
    "# Задание 4"
   ]
  },
  {
   "cell_type": "markdown",
   "id": "638dc499-a4d8-4976-b8de-8a845481fdc5",
   "metadata": {},
   "source": [
    " - H0 - соотношение мужчин и женщин в возрасте от 30 до 60 лет такое же, как у новорожденных: p = 0.48 (женщин), соответственно смертность среди мужчин и женщин одинакова\n",
    " - H1 - смертность различается (в любую сторону) p != 0.48\n",
    " - уровень значимости alpha = 0.05"
   ]
  },
  {
   "cell_type": "markdown",
   "id": "17ce7481-5b20-40cc-bcfd-601d707fbfc6",
   "metadata": {},
   "source": [
    " - для проверки нулевой гипотезы будем использовать proportion_ztest\n",
    " - по умолчанию он двусторонний, так и оставим"
   ]
  },
  {
   "cell_type": "code",
   "execution_count": 73,
   "id": "0dade9b4-8ce3-45a7-8702-2606d9154daa",
   "metadata": {},
   "outputs": [],
   "source": [
    "import statsmodels.api as sm"
   ]
  },
  {
   "cell_type": "code",
   "execution_count": 90,
   "id": "dab99cae-25c1-450e-8f79-5a6034e51d44",
   "metadata": {},
   "outputs": [
    {
     "data": {
      "text/plain": [
       "(2.8284271247461925, 0.00467773498104723)"
      ]
     },
     "execution_count": 90,
     "metadata": {},
     "output_type": "execute_result"
    }
   ],
   "source": [
    "sm.stats.proportions_ztest(\n",
    "    2500,   # количество женщин в возрасте от 30 до 60 (50% от общей выборки)\n",
    "    5000,   # количество людей в выборке\n",
    "    0.48    # доля новорожденных для сравнения \n",
    "    # alternative = 'larger'\n",
    ")"
   ]
  },
  {
   "cell_type": "markdown",
   "id": "8eb9c169-64ef-4f44-b34a-54713e7cdd0c",
   "metadata": {},
   "source": [
    "p-value меньше, чем alpha, поэтому отвергаем нулевую гипотезу\n",
    "смертность мужчин и женщин неодинакова (смертность женщин ниже)"
   ]
  },
  {
   "cell_type": "markdown",
   "id": "6d3e9872-39ca-4143-9494-77e3418bbea4",
   "metadata": {},
   "source": [
    "# Задание 5"
   ]
  },
  {
   "cell_type": "markdown",
   "id": "79b34389-2cd4-4c43-ae1c-0e5e333bf1ba",
   "metadata": {},
   "source": [
    "Причины значимости и незначимости различий результатов тестов:\n",
    "- Размер выборки - в первом случае могла быть достаточно большая выборка, на которой получилось увидеть различие в данных. Во второй выборка могла быть небольшой.\n",
    "- Наличие выбросов или высокого стандартного отклонения - в первом тесте могло идти сравнение результатов экспериментов наподобие (17.1, 16.9, 17.0) и (16.2, 16.1, 15.7). В таком случае разница достаточна очевидна. А во втором тесте могли быть (-100, 51, 100) и (35, 36, 37) и тест выдал незначимость различий.\n",
    "- Возможно критерий Стьюдента не подходил для эксперимента (выборки не были независимыми или распределение было не нормальным)"
   ]
  }
 ],
 "metadata": {
  "kernelspec": {
   "display_name": "Python 3 (ipykernel)",
   "language": "python",
   "name": "python3"
  },
  "language_info": {
   "codemirror_mode": {
    "name": "ipython",
    "version": 3
   },
   "file_extension": ".py",
   "mimetype": "text/x-python",
   "name": "python",
   "nbconvert_exporter": "python",
   "pygments_lexer": "ipython3",
   "version": "3.12.1"
  }
 },
 "nbformat": 4,
 "nbformat_minor": 5
}
